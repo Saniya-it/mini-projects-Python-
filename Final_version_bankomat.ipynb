{
  "nbformat": 4,
  "nbformat_minor": 0,
  "metadata": {
    "colab": {
      "provenance": []
    },
    "kernelspec": {
      "name": "python3",
      "display_name": "Python 3"
    },
    "language_info": {
      "name": "python"
    }
  },
  "cells": [
    {
      "cell_type": "code",
      "execution_count": null,
      "metadata": {
        "colab": {
          "base_uri": "https://localhost:8080/"
        },
        "id": "Hzzb_CD_Iiz8",
        "outputId": "86a005c2-5558-44c4-a878-88cb08a72adf"
      },
      "outputs": [
        {
          "output_type": "stream",
          "name": "stdout",
          "text": [
            "Положите свою зп в банкомат 89000\n",
            "Сколько вам выдать денег? 54000\n",
            "Выдано: 2 купюр номиналом 20000 тг, 1 купюр номиналом 10000 тг, 2 купюр номиналом 2000 тг,\n"
          ]
        }
      ],
      "source": [
        "def get_money():\n",
        "  n  = int(input(\"Положите свою зп в банкомат \"))\n",
        "  if n%500 != 0:\n",
        "      return \"Ошибка, положите сумму, кратную казахстанским купюрам \"\n",
        "      \n",
        "  s = int(input(\"Сколько вам выдать денег? \"))\n",
        "  if s%500 != 0:\n",
        "      return \"Ошибка, введите сумму, кратную казахстанским купюрам\"\n",
        "      \n",
        "  count_20000 = 0\n",
        "  count_10000 = 0\n",
        "  count_5000 = 0\n",
        "  count_2000 = 0\n",
        "  count_1000 = 0\n",
        "  count_500 =0\n",
        "\n",
        "  import math\n",
        "  \n",
        "  if s > n:\n",
        "    return 'Недостаточно денег в банкомате'\n",
        "  else:\n",
        "    while s>0:\n",
        "      if math.floor(s//20000) >=1:\n",
        "        count_20000 += math.floor(s//20000)\n",
        "        s -= count_20000*20000\n",
        "        continue\n",
        "      if math.floor(s//10000) >=1:\n",
        "        count_10000 += math.floor(s//10000)\n",
        "        s -= count_10000*10000\n",
        "        continue\n",
        "      if math.floor(s//5000) >=1:\n",
        "        count_5000 += math.floor(s/5000)\n",
        "        s -= count_5000*5000\n",
        "        continue\n",
        "      if math.floor(s//2000) >=1:\n",
        "        count_2000 += math.floor(s//2000)\n",
        "        s -= count_2000*2000\n",
        "        continue\n",
        "      if math.floor(s//1000) >=1:\n",
        "        count_1000 += math.floor(s//1000)\n",
        "        s -= count_1000*1000\n",
        "        continue\n",
        "      if math.floor(s//500) >=1:\n",
        "        count_500 += math.floor(s//500)\n",
        "        s -= count_500*500\n",
        "        continue\n",
        "  \n",
        "    d = ['Выдано:']\n",
        "    if count_20000>0:\n",
        "      d.append (count_20000)\n",
        "      d.append ('купюр номиналом 20000 тг,')\n",
        "    if count_10000 > 0:\n",
        "      d.append (count_10000)\n",
        "      d.append ('купюр номиналом 10000 тг,')\n",
        "    if count_5000 > 0:\n",
        "      d.append (count_5000)\n",
        "      d.append ('купюр номиналом 5000 тг,')\n",
        "    if count_2000 >0:\n",
        "      d.append (count_2000)\n",
        "      d.append ('купюр номиналом 2000 тг,')\n",
        "    if count_1000 >0:\n",
        "      d.append (count_1000) \n",
        "      d.append ('купюр номиналом 1000 тг,')\n",
        "    if count_500 >0:\n",
        "      d.append (count_500) \n",
        "      d.append ('купюр номиналом 500 тг.')\n",
        "\n",
        "\n",
        "    print(*d)\n",
        "  \n",
        "get_money()\n",
        "\n",
        "\n",
        "\n",
        "\n"
      ]
    }
  ]
}