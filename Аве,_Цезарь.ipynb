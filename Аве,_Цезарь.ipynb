{
  "nbformat": 4,
  "nbformat_minor": 0,
  "metadata": {
    "colab": {
      "provenance": []
    },
    "kernelspec": {
      "name": "python3",
      "display_name": "Python 3"
    },
    "language_info": {
      "name": "python"
    }
  },
  "cells": [
    {
      "cell_type": "code",
      "execution_count": null,
      "metadata": {
        "id": "fCYuiViNCpS0"
      },
      "outputs": [],
      "source": [
        "txt = input()\n",
        "eng_lower_alphabet = 'abcdefghijklmnopqrstuvwxyzabcdefghijklmnopqrstuvwxyzabcdefghijklmnopqrstuvwxyzabcdefghijklmnopqrstuvwxyz'\n",
        "eng_upper_alphabet = 'ABCDEFGHIJKLMNOPQRSTUVWXYZABCDEFGHIJKLMNOPQRSTUVWXYZABCDEFGHIJKLMNOPQRSTUVWXYZABCDEFGHIJKLMNOPQRSTUVWXYZ'\n",
        "\n",
        "#считываем кол-во букв в слове\n",
        "b = ''\n",
        "for i in txt:\n",
        "    if i == '!' or i =='.' or i ==',' or i =='?' or i ==':' or i =='\"' or i ==':' :\n",
        "        b += ''\n",
        "    else:\n",
        "        b += i\n",
        "a = b.split(' ')\n",
        "k = []\n",
        "for j in range(len(a)):\n",
        "    s = len(a[j])\n",
        "    k.append(s)\n",
        "    \n",
        "#перемещаем на это кол-во буквы\n",
        "\n",
        "c = ''\n",
        "for i in txt:\n",
        "    c += i\n",
        "d = c.split(' ')\n",
        "new_txt = ''\n",
        "count = 0\n",
        "for j in range(len(d)):\n",
        "    for i in d[j]:\n",
        "        if i.lower()!= i:\n",
        "            place_i = eng_upper_alphabet.find(i)\n",
        "            new_place_i = place_i + k[j]\n",
        "            new_txt += eng_upper_alphabet[place_i + k[j]]\n",
        "            count += 1\n",
        "            if count < len(d[j]):\n",
        "                continue       \n",
        "        if i.lower() == ',' or i.lower() == '.' or i.lower() == ':' or i.lower() == '\"' or i.lower() == '?' or i.lower() == '!': \n",
        "            new_txt += i \n",
        "            count += 1\n",
        "            if count < len(d[j]):\n",
        "                continue \n",
        "        if i.lower()== i and i.lower() != ',' and i.lower() != '.' and i.lower() != ':' and i.lower() != '\"' and i.lower() != '?' and i.lower() != '!':\n",
        "            place_i = eng_lower_alphabet.find(i)\n",
        "            new_place_i = place_i + k[j]\n",
        "            new_txt += eng_lower_alphabet[place_i + k[j]]\n",
        "            count += 1\n",
        "            if count < len(d[j]):\n",
        "                continue\n",
        "            else:\n",
        "                new_txt += ' ' \n",
        "                count = 0               \n",
        "        else:\n",
        "            new_txt += ' ' \n",
        "            count = 0\n",
        "print(new_txt)"
      ]
    }
  ]
}