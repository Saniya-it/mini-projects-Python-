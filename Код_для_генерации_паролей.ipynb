{
  "nbformat": 4,
  "nbformat_minor": 0,
  "metadata": {
    "colab": {
      "provenance": []
    },
    "kernelspec": {
      "name": "python3",
      "display_name": "Python 3"
    },
    "language_info": {
      "name": "python"
    }
  },
  "cells": [
    {
      "cell_type": "code",
      "execution_count": null,
      "metadata": {
        "id": "r1Tzns9Rn4JF"
      },
      "outputs": [],
      "source": [
        "import random\n",
        "\n",
        "DIGITS = '0123456789'\n",
        "LOWERCASE_LETTERS = 'abcdefghijklmnopqrstuvwxyz'\n",
        "UPPERCASE_LETTERS = 'ABCDEFGHIJKLMNOPQRSTUVWXYZ'\n",
        "PUNCTUATION = '!#$%&*+-=?@^_'\n",
        "BAD_PUNCTUATION = 'il1Lo0O'\n",
        "\n",
        "chars = ''\n",
        "\n",
        "d = input('Включать ли цифры?')\n",
        "if d == 'да':\n",
        "    chars += DIGITS\n",
        "e = input('Включать ли прописные буквы?')\n",
        "if e == 'да':\n",
        "    chars += LOWERCASE_LETTERS\n",
        "f = input('Включать ли строчные буквы?')\n",
        "if f == 'да':\n",
        "    chars += UPPERCASE_LETTERS\n",
        "g = input('Включать ли символы?')\n",
        "if g == 'да':\n",
        "    chars += PUNCTUATION\n",
        "h = input('Исключать ли неоднозначные символы?')\n",
        "if h == 'да':\n",
        "    chars = chars.replace('i', '')\n",
        "    chars = chars.replace('l', '')\n",
        "    chars = chars.replace('1', '')\n",
        "    chars = chars.replace('L', '')\n",
        "    chars = chars.replace('o', '')\n",
        "    chars = chars.replace('0', '')\n",
        "    chars = chars.replace('O', '')\n",
        "\n",
        "def generate_password():\n",
        "    number_of_passwords = int(input('Сколько паролей?'))\n",
        "    psw_length = int(input('Длина пароля?'))\n",
        "    for i in range(number_of_passwords):\n",
        "        print(*(random.sample(chars, psw_length)), sep = '')\n",
        "\n",
        "print(generate_password())"
      ]
    }
  ]
}