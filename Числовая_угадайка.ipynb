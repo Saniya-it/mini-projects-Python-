{
  "nbformat": 4,
  "nbformat_minor": 0,
  "metadata": {
    "colab": {
      "provenance": []
    },
    "kernelspec": {
      "name": "python3",
      "display_name": "Python 3"
    },
    "language_info": {
      "name": "python"
    }
  },
  "cells": [
    {
      "cell_type": "code",
      "execution_count": null,
      "metadata": {
        "id": "xpFT2N6TT1Of"
      },
      "outputs": [],
      "source": [
        "import random\n",
        "\n",
        "def is_valid(n): # проверка на соответствие введенного значения условию\n",
        "    return n.isdigit() and float(n) - int(float(n)) == 0 and 1 <= int(n) <= 100\n",
        "\n",
        "\n",
        "def input_num(): # ввод данных\n",
        "    while True:\n",
        "        guess = input()\n",
        "        if is_valid(guess):\n",
        "            return int(guess)\n",
        "        else:\n",
        "            print('А может быть все-таки введем целое число от 1 до 100?')\n",
        "\n",
        "\n",
        "def compare_num(down_num, up_num): # Сравнение введенного значения с загаданным\n",
        "    num = random.randint(down_num, up_num)\n",
        "    total = 0\n",
        "    while True:\n",
        "        n = input_num()\n",
        "        total += 1\n",
        "        if n < num:\n",
        "            print('Не угадали, попробуйте число побольше')\n",
        "        elif n > num:\n",
        "            print('Мимо, назовите число поменьше')\n",
        "        else:\n",
        "            print('Победа!!! Вы угадали ответ за', total,  'попыток, поздравляем!' )\n",
        "            break\n",
        "\n",
        "\n",
        "def continue_game(): # Предложение продолжить игру\n",
        "    ans = input('Хотите продолжить (\"д\"/\"н\")?\\n')\n",
        "    while True:\n",
        "        if ans not in ('y', 'д', 'n', 'н'):\n",
        "            ans = input('Вроде, взрослый человек, а на простой вопрос ответить не может...\\nПродолжим (\"д\"/\"н\")?\\n')\n",
        "        elif ans in ('n', 'н'):\n",
        "            print('До новых встреч!!!')\n",
        "            return False\n",
        "        else:\n",
        "            return True\n",
        "\n",
        "\n",
        "def game(): # Запуск игры\n",
        "    print('Добро пожаловать в числовую угадайку!')\n",
        "    while True:\n",
        "        print('Укажите, в каком диапазоне Вы готовы угадывать числа\\n(В пределах от 1 до 100):\\n')\n",
        "        x, y = input_num(), input_num()\n",
        "        if x > y:\n",
        "            x, y = y, x\n",
        "        print('Введите число от', x, 'до', y, '\\n')\n",
        "        compare_num(x, y)\n",
        "        if continue_game():\n",
        "            continue\n",
        "        else:\n",
        "            break\n",
        "\n",
        "\n",
        "game()"
      ]
    }
  ]
}